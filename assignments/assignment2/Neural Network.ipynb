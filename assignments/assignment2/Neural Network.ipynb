{
 "cells": [
  {
   "cell_type": "markdown",
   "metadata": {},
   "source": [
    "# Задание 2.1 - Нейронные сети\n",
    "\n",
    "В этом задании вы реализуете и натренируете настоящую нейроную сеть своими руками!\n",
    "\n",
    "В некотором смысле это будет расширением прошлого задания - нам нужно просто составить несколько линейных классификаторов вместе!\n",
    "\n",
    "<img src=\"https://i.redd.it/n9fgba8b0qr01.png\" alt=\"Stack_more_layers\" width=\"400px\"/>"
   ]
  },
  {
   "cell_type": "code",
   "execution_count": 2,
   "metadata": {},
   "outputs": [],
   "source": [
    "import numpy as np\n",
    "import matplotlib.pyplot as plt\n",
    "\n",
    "%matplotlib inline\n",
    "\n",
    "%load_ext autoreload\n",
    "%autoreload 2"
   ]
  },
  {
   "cell_type": "code",
   "execution_count": 3,
   "metadata": {},
   "outputs": [],
   "source": [
    "from dataset import load_svhn, random_split_train_val\n",
    "from gradient_check import check_layer_gradient, check_layer_param_gradient, check_model_gradient\n",
    "from layers import FullyConnectedLayer, ReLULayer\n",
    "from model import TwoLayerNet\n",
    "from trainer import Trainer, Dataset\n",
    "from optim import SGD, MomentumSGD\n",
    "from metrics import multiclass_accuracy"
   ]
  },
  {
   "cell_type": "markdown",
   "metadata": {},
   "source": [
    "# Загружаем данные\n",
    "\n",
    "И разделяем их на training и validation."
   ]
  },
  {
   "cell_type": "code",
   "execution_count": 4,
   "metadata": {},
   "outputs": [],
   "source": [
    "def prepare_for_neural_network(train_X, test_X):\n",
    "    train_flat = train_X.reshape(train_X.shape[0], -1).astype(np.float) / 255.0\n",
    "    test_flat = test_X.reshape(test_X.shape[0], -1).astype(np.float) / 255.0\n",
    "    \n",
    "    # Subtract mean\n",
    "    mean_image = np.mean(train_flat, axis = 0)\n",
    "    train_flat -= mean_image\n",
    "    test_flat -= mean_image\n",
    "    \n",
    "    return train_flat, test_flat\n",
    "    \n",
    "train_X, train_y, test_X, test_y = load_svhn(\"data\", max_train=10000, max_test=1000)    \n",
    "train_X, test_X = prepare_for_neural_network(train_X, test_X)\n",
    "# Split train into train and val\n",
    "train_X, train_y, val_X, val_y = random_split_train_val(train_X, train_y, num_val = 1000)"
   ]
  },
  {
   "cell_type": "markdown",
   "metadata": {},
   "source": [
    "# Как всегда, начинаем с кирпичиков\n",
    "\n",
    "Мы будем реализовывать необходимые нам слои по очереди. Каждый слой должен реализовать:\n",
    "- прямой проход (forward pass), который генерирует выход слоя по входу и запоминает необходимые данные\n",
    "- обратный проход (backward pass), который получает градиент по выходу слоя и вычисляет градиент по входу и по параметрам\n",
    "\n",
    "Начнем с ReLU, у которого параметров нет."
   ]
  },
  {
   "cell_type": "code",
   "execution_count": 4,
   "metadata": {},
   "outputs": [
    {
     "name": "stdout",
     "output_type": "stream",
     "text": [
      "Gradient check passed!\n"
     ]
    }
   ],
   "source": [
    "# TODO: Implement ReLULayer layer in layers.py\n",
    "# Note: you'll need to copy implementation of the gradient_check function from the previous assignment\n",
    "\n",
    "X = np.array([[1,-2,3],\n",
    "              [-1, 2, 0.1]\n",
    "              ])\n",
    "\n",
    "assert check_layer_gradient(ReLULayer(), X)"
   ]
  },
  {
   "cell_type": "markdown",
   "metadata": {},
   "source": [
    "А теперь реализуем полносвязный слой (fully connected layer), у которого будет два массива параметров: W (weights) и B (bias).\n",
    "\n",
    "Все параметры наши слои будут использовать для параметров специальный класс `Param`, в котором будут храниться значения параметров и градиенты этих параметров, вычисляемые во время обратного прохода.\n",
    "\n",
    "Это даст возможность аккумулировать (суммировать) градиенты из разных частей функции потерь, например, из cross-entropy loss и regularization loss."
   ]
  },
  {
   "cell_type": "code",
   "execution_count": 5,
   "metadata": {},
   "outputs": [
    {
     "name": "stdout",
     "output_type": "stream",
     "text": [
      "Gradient check passed!\n",
      "Gradient check passed!\n",
      "Gradient check passed!\n"
     ]
    }
   ],
   "source": [
    "# TODO: Implement FullyConnected layer forward and backward methods\n",
    "assert check_layer_gradient(FullyConnectedLayer(3, 4), X)\n",
    "# TODO: Implement storing gradients for W and B\n",
    "assert check_layer_param_gradient(FullyConnectedLayer(3, 4), X, 'W')\n",
    "assert check_layer_param_gradient(FullyConnectedLayer(3, 4), X, 'B')"
   ]
  },
  {
   "cell_type": "markdown",
   "metadata": {},
   "source": [
    "## Создаем нейронную сеть\n",
    "\n",
    "Теперь мы реализуем простейшую нейронную сеть с двумя полносвязным слоями и нелинейностью ReLU. Реализуйте функцию `compute_loss_and_gradients`, она должна запустить прямой и обратный проход через оба слоя для вычисления градиентов.\n",
    "\n",
    "Не забудьте реализовать очистку градиентов в начале функции."
   ]
  },
  {
   "cell_type": "code",
   "execution_count": 6,
   "metadata": {},
   "outputs": [
    {
     "name": "stdout",
     "output_type": "stream",
     "text": [
      "Checking gradient for W1\n",
      "Gradient check passed!\n",
      "Checking gradient for B1\n",
      "Gradient check passed!\n",
      "Checking gradient for W2\n",
      "Gradient check passed!\n",
      "Checking gradient for B2\n",
      "Gradient check passed!\n"
     ]
    },
    {
     "data": {
      "text/plain": [
       "True"
      ]
     },
     "execution_count": 6,
     "metadata": {},
     "output_type": "execute_result"
    }
   ],
   "source": [
    "# TODO: In model.py, implement compute_loss_and_gradients function\n",
    "model = TwoLayerNet(n_input = train_X.shape[1], n_output = 10, hidden_layer_size = 3, reg = 0)\n",
    "loss = model.compute_loss_and_gradients(train_X[:2], train_y[:2])\n",
    "\n",
    "# TODO Now implement backward pass and aggregate all of the params\n",
    "check_model_gradient(model, train_X[:2], train_y[:2])"
   ]
  },
  {
   "cell_type": "markdown",
   "metadata": {},
   "source": [
    "Теперь добавьте к модели регуляризацию - она должна прибавляться к loss и делать свой вклад в градиенты."
   ]
  },
  {
   "cell_type": "code",
   "execution_count": 7,
   "metadata": {},
   "outputs": [
    {
     "name": "stdout",
     "output_type": "stream",
     "text": [
      "Checking gradient for W1\n",
      "Gradient check passed!\n",
      "Checking gradient for B1\n",
      "Gradient check passed!\n",
      "Checking gradient for W2\n",
      "Gradient check passed!\n",
      "Checking gradient for B2\n",
      "Gradient check passed!\n"
     ]
    },
    {
     "data": {
      "text/plain": [
       "True"
      ]
     },
     "execution_count": 7,
     "metadata": {},
     "output_type": "execute_result"
    }
   ],
   "source": [
    "# TODO Now implement l2 regularization in the forward and backward pass\n",
    "model_with_reg = TwoLayerNet(n_input = train_X.shape[1], n_output = 10, hidden_layer_size = 3, reg = 1e1)\n",
    "loss_with_reg = model_with_reg.compute_loss_and_gradients(train_X[:2], train_y[:2])\n",
    "assert loss_with_reg > loss and not np.isclose(loss_with_reg, loss), \\\n",
    "    \"Loss with regularization (%2.4f) should be higher than without it (%2.4f)!\" % (loss, loss_with_reg)\n",
    "\n",
    "check_model_gradient(model_with_reg, train_X[:2], train_y[:2])"
   ]
  },
  {
   "cell_type": "markdown",
   "metadata": {},
   "source": [
    "Также реализуем функцию предсказания (вычисления значения) модели на новых данных.\n",
    "\n",
    "Какое значение точности мы ожидаем увидеть до начала тренировки?"
   ]
  },
  {
   "cell_type": "code",
   "execution_count": 8,
   "metadata": {},
   "outputs": [
    {
     "data": {
      "text/plain": [
       "0.1"
      ]
     },
     "execution_count": 8,
     "metadata": {},
     "output_type": "execute_result"
    }
   ],
   "source": [
    "# Finally, implement predict function!\n",
    "\n",
    "# TODO: Implement predict function\n",
    "# What would be the value we expect?\n",
    "multiclass_accuracy(model_with_reg.predict(train_X[:30]), train_y[:30]) "
   ]
  },
  {
   "cell_type": "markdown",
   "metadata": {},
   "source": [
    "# Допишем код для процесса тренировки\n",
    "\n",
    "Если все реализовано корректно, значение функции ошибки должно уменьшаться с каждой эпохой, пусть и медленно. Не беспокойтесь пока про validation accuracy."
   ]
  },
  {
   "cell_type": "code",
   "execution_count": 27,
   "metadata": {},
   "outputs": [
    {
     "name": "stdout",
     "output_type": "stream",
     "text": [
      "Loss: 2.321349, Train accuracy: 0.196667, val accuracy: 0.206000\n",
      "Loss: 2.302274, Train accuracy: 0.196667, val accuracy: 0.206000\n",
      "Loss: 2.302291, Train accuracy: 0.196667, val accuracy: 0.206000\n",
      "Loss: 2.302292, Train accuracy: 0.148222, val accuracy: 0.140000\n",
      "Loss: 2.302303, Train accuracy: 0.196667, val accuracy: 0.206000\n",
      "Loss: 2.302307, Train accuracy: 0.196667, val accuracy: 0.206000\n",
      "Loss: 2.302281, Train accuracy: 0.196667, val accuracy: 0.206000\n",
      "Loss: 2.302286, Train accuracy: 0.196667, val accuracy: 0.206000\n",
      "Loss: 2.302307, Train accuracy: 0.196667, val accuracy: 0.206000\n",
      "Loss: 2.302290, Train accuracy: 0.196667, val accuracy: 0.206000\n"
     ]
    }
   ],
   "source": [
    "model = TwoLayerNet(n_input = train_X.shape[1], n_output = 10, hidden_layer_size = 100, reg = 1e1)\n",
    "dataset = Dataset(train_X, train_y, val_X, val_y)\n",
    "trainer = Trainer(model, dataset, SGD(), learning_rate = 1e-2, num_epochs=10)\n",
    "\n",
    "# TODO Implement missing pieces in Trainer.fit function\n",
    "# You should expect loss to go down every epoch, even if it's slow\n",
    "loss_history, train_history, val_history = trainer.fit(verbose=True)"
   ]
  },
  {
   "cell_type": "code",
   "execution_count": 28,
   "metadata": {},
   "outputs": [
    {
     "data": {
      "text/plain": [
       "[<matplotlib.lines.Line2D at 0x115635950>]"
      ]
     },
     "execution_count": 28,
     "metadata": {},
     "output_type": "execute_result"
    },
    {
     "data": {
      "image/png": "[encoded data removed]",
      "text/plain": [
       "<Figure size 432x288 with 1 Axes>"
      ]
     },
     "metadata": {
      "needs_background": "light"
     },
     "output_type": "display_data"
    }
   ],
   "source": [
    "plt.plot(train_history)\n",
    "plt.plot(val_history)"
   ]
  },
  {
   "cell_type": "markdown",
   "metadata": {},
   "source": [
    "# Улучшаем процесс тренировки\n",
    "\n",
    "Мы реализуем несколько ключевых оптимизаций, необходимых для тренировки современных нейросетей."
   ]
  },
  {
   "cell_type": "markdown",
   "metadata": {},
   "source": [
    "## Уменьшение скорости обучения (learning rate decay)\n",
    "\n",
    "Одна из необходимых оптимизаций во время тренировки нейронных сетей - постепенное уменьшение скорости обучения по мере тренировки.\n",
    "\n",
    "Один из стандартных методов - уменьшение скорости обучения (learning rate) каждые N эпох на коэффициент d (часто называемый decay). Значения N и d, как всегда, являются гиперпараметрами и должны подбираться на основе эффективности на проверочных данных (validation data). \n",
    "\n",
    "В нашем случае N будет равным 1."
   ]
  },
  {
   "cell_type": "code",
   "execution_count": null,
   "metadata": {},
   "outputs": [],
   "source": [
    "# TODO Implement learning rate decay inside Trainer.fit method\n",
    "# Decay should happen once per epoch\n",
    "\n",
    "model = TwoLayerNet(n_input = train_X.shape[1], n_output = 10, hidden_layer_size = 100, reg = 1e-1)\n",
    "dataset = Dataset(train_X, train_y, val_X, val_y)\n",
    "trainer = Trainer(model, dataset, MomentumSGD(momentum=0.99), learning_rate_decay=0.99, num_epochs=5)\n",
    "\n",
    "initial_learning_rate = trainer.learning_rate\n",
    "loss_history, train_history, val_history = trainer.fit()\n",
    "\n",
    "assert trainer.learning_rate < initial_learning_rate, \"Learning rate should've been reduced\"\n",
    "assert trainer.learning_rate > 0.5*initial_learning_rate, \"Learning rate shouldn'tve been reduced that much!\""
   ]
  },
  {
   "cell_type": "markdown",
   "metadata": {},
   "source": [
    "# Накопление импульса (Momentum SGD)\n",
    "\n",
    "Другой большой класс оптимизаций - использование более эффективных методов градиентного спуска. Мы реализуем один из них - накопление импульса (Momentum SGD).\n",
    "\n",
    "Этот метод хранит скорость движения, использует градиент для ее изменения на каждом шаге, и изменяет веса пропорционально значению скорости.\n",
    "(Физическая аналогия: Вместо скорости градиенты теперь будут задавать ускорение, но будет присутствовать сила трения.)\n",
    "\n",
    "```\n",
    "velocity = momentum * velocity - learning_rate * gradient \n",
    "w = w + velocity\n",
    "```\n",
    "\n",
    "`momentum` здесь коэффициент затухания, который тоже является гиперпараметром (к счастью, для него часто есть хорошее значение по умолчанию, типичный диапазон -- 0.8-0.99).\n",
    "\n",
    "Несколько полезных ссылок, где метод разбирается более подробно:  \n",
    "http://cs231n.github.io/neural-networks-3/#sgd  \n",
    "https://distill.pub/2017/momentum/"
   ]
  },
  {
   "cell_type": "code",
   "execution_count": 24,
   "metadata": {},
   "outputs": [
    {
     "name": "stdout",
     "output_type": "stream",
     "text": [
      "Loss: 2.306041, Train accuracy: 0.196667, val accuracy: 0.206000\n",
      "Loss: 2.278204, Train accuracy: 0.196667, val accuracy: 0.206000\n",
      "Loss: 2.275590, Train accuracy: 0.196667, val accuracy: 0.206000\n",
      "Loss: 2.275254, Train accuracy: 0.196667, val accuracy: 0.206000\n",
      "Loss: 2.274997, Train accuracy: 0.196667, val accuracy: 0.206000\n"
     ]
    }
   ],
   "source": [
    "# TODO: Implement MomentumSGD.update function in optim.py\n",
    "\n",
    "model = TwoLayerNet(n_input = train_X.shape[1], n_output = 10, hidden_layer_size = 100, reg = 1e-1)\n",
    "dataset = Dataset(train_X, train_y, val_X, val_y)\n",
    "trainer = Trainer(model, dataset, MomentumSGD(momentum=0.99), learning_rate=1e-4, learning_rate_decay=0.99, num_epochs=5)\n",
    "\n",
    "# You should see even better results than before!\n",
    "loss_history, train_history, val_history = trainer.fit()"
   ]
  },
  {
   "cell_type": "markdown",
   "metadata": {},
   "source": [
    "# Ну что, давайте уже тренировать сеть!"
   ]
  },
  {
   "cell_type": "markdown",
   "metadata": {},
   "source": [
    "## Последний тест - переобучимся (overfit) на маленьком наборе данных\n",
    "\n",
    "Хороший способ проверить, все ли реализовано корректно - переобучить сеть на маленьком наборе данных.  \n",
    "Наша модель обладает достаточной мощностью, чтобы приблизить маленький набор данных идеально, поэтому мы ожидаем, что на нем мы быстро дойдем до 100% точности на тренировочном наборе. \n",
    "\n",
    "Если этого не происходит, то где-то была допущена ошибка!"
   ]
  },
  {
   "cell_type": "code",
   "execution_count": 30,
   "metadata": {},
   "outputs": [
    {
     "name": "stdout",
     "output_type": "stream",
     "text": [
      "Loss: 1.273015, Train accuracy: 1.000000, val accuracy: 0.000000\n"
     ]
    }
   ],
   "source": [
    "data_size = 15\n",
    "model = TwoLayerNet(n_input = train_X.shape[1], n_output = 10, hidden_layer_size = 100, reg = 1e-1)\n",
    "dataset = Dataset(train_X[:data_size], train_y[:data_size], val_X[:data_size], val_y[:data_size])\n",
    "trainer = Trainer(model, dataset, SGD(), learning_rate=1e-1, num_epochs=150, batch_size=5)\n",
    "\n",
    "# You should expect this to reach 1.0 training accuracy \n",
    "loss_history, train_history, val_history = trainer.fit()"
   ]
  },
  {
   "cell_type": "markdown",
   "metadata": {},
   "source": [
    "Теперь найдем гипепараметры, для которых этот процесс сходится быстрее.\n",
    "Если все реализовано корректно, то существуют параметры, при которых процесс сходится в **20** эпох или еще быстрее.\n",
    "Найдите их!"
   ]
  },
  {
   "cell_type": "code",
   "execution_count": 31,
   "metadata": {},
   "outputs": [
    {
     "name": "stdout",
     "output_type": "stream",
     "text": [
      "Loss: 1.408223, Train accuracy: 1.000000, val accuracy: 0.000000\n"
     ]
    }
   ],
   "source": [
    "# Now, tweak some hyper parameters and make it train to 1.0 accuracy in 20 epochs or less\n",
    "\n",
    "model = TwoLayerNet(n_input = train_X.shape[1], n_output = 10, hidden_layer_size = 100, reg = 0.3 * 1e-1)\n",
    "dataset = Dataset(train_X[:data_size], train_y[:data_size], val_X[:data_size], val_y[:data_size])\n",
    "# TODO: Change any hyperparamers or optimizators to reach training accuracy in 20 epochs\n",
    "trainer = Trainer(model, dataset, MomentumSGD(momentum=0.99), learning_rate=3e-1, num_epochs=20, batch_size=100)\n",
    "\n",
    "loss_history, train_history, val_history = trainer.fit()"
   ]
  },
  {
   "cell_type": "markdown",
   "metadata": {},
   "source": [
    "# Итак, основное мероприятие!\n",
    "\n",
    "Натренируйте лучшую нейросеть! Можно добавлять и изменять параметры, менять количество нейронов в слоях сети и как угодно экспериментировать. "
   ]
  },
  {
   "cell_type": "code",
   "execution_count": 9,
   "metadata": {
    "scrolled": true
   },
   "outputs": [
    {
     "name": "stdout",
     "output_type": "stream",
     "text": [
      "225\n",
      "Loss: 2.279244, Train accuracy: 0.183000, val accuracy: 0.230000\n",
      "Loss: 2.277242, Train accuracy: 0.183000, val accuracy: 0.230000\n",
      "Loss: 2.272600, Train accuracy: 0.183000, val accuracy: 0.230000\n",
      "Loss: 2.275299, Train accuracy: 0.183000, val accuracy: 0.230000\n",
      "Loss: 2.375942, Train accuracy: 0.182000, val accuracy: 0.160000\n",
      "Loss: 2.277558, Train accuracy: 0.183000, val accuracy: 0.230000\n",
      "Loss: 2.275463, Train accuracy: 0.183000, val accuracy: 0.230000\n",
      "Loss: 2.271526, Train accuracy: 0.183000, val accuracy: 0.230000\n",
      "Loss: 2.272537, Train accuracy: 0.183000, val accuracy: 0.230000\n",
      "Loss: 2.321613, Train accuracy: 0.183000, val accuracy: 0.230000\n",
      "Loss: 2.274739, Train accuracy: 0.183000, val accuracy: 0.230000\n",
      "Loss: 2.272019, Train accuracy: 0.183000, val accuracy: 0.230000\n",
      "Loss: 2.269923, Train accuracy: 0.176000, val accuracy: 0.230000\n",
      "Loss: 2.271793, Train accuracy: 0.180000, val accuracy: 0.200000\n",
      "Loss: 2.303536, Train accuracy: 0.181000, val accuracy: 0.230000\n",
      "Loss: 2.273580, Train accuracy: 0.183000, val accuracy: 0.230000\n",
      "Loss: 2.273073, Train accuracy: 0.183000, val accuracy: 0.230000\n",
      "Loss: 2.271014, Train accuracy: 0.183000, val accuracy: 0.250000\n",
      "Loss: 2.275681, Train accuracy: 0.183000, val accuracy: 0.230000\n",
      "Loss: 2.313059, Train accuracy: 0.174000, val accuracy: 0.230000\n",
      "Loss: 2.273762, Train accuracy: 0.183000, val accuracy: 0.230000\n",
      "Loss: 2.272805, Train accuracy: 0.183000, val accuracy: 0.230000\n",
      "Loss: 2.272764, Train accuracy: 0.182000, val accuracy: 0.230000\n",
      "Loss: 2.275440, Train accuracy: 0.183000, val accuracy: 0.230000\n",
      "Loss: 2.293141, Train accuracy: 0.183000, val accuracy: 0.230000\n",
      "Loss: 2.250240, Train accuracy: 0.183000, val accuracy: 0.230000\n",
      "Loss: 2.242198, Train accuracy: 0.183000, val accuracy: 0.230000\n",
      "Loss: 2.234680, Train accuracy: 0.181000, val accuracy: 0.220000\n",
      "Loss: 2.232785, Train accuracy: 0.189000, val accuracy: 0.180000\n",
      "Loss: 2.273738, Train accuracy: 0.180000, val accuracy: 0.140000\n",
      "Loss: 2.243321, Train accuracy: 0.183000, val accuracy: 0.230000\n",
      "Loss: 2.236215, Train accuracy: 0.183000, val accuracy: 0.230000\n",
      "Loss: 2.227043, Train accuracy: 0.192000, val accuracy: 0.190000\n",
      "Loss: 2.214277, Train accuracy: 0.202000, val accuracy: 0.190000\n",
      "Loss: 2.225904, Train accuracy: 0.212000, val accuracy: 0.190000\n",
      "Loss: 2.234653, Train accuracy: 0.184000, val accuracy: 0.220000\n",
      "Loss: 2.228113, Train accuracy: 0.181000, val accuracy: 0.230000\n",
      "Loss: 2.204453, Train accuracy: 0.198000, val accuracy: 0.170000\n",
      "Loss: 2.171527, Train accuracy: 0.246000, val accuracy: 0.260000\n",
      "Loss: 2.175099, Train accuracy: 0.272000, val accuracy: 0.280000\n",
      "Loss: 2.229941, Train accuracy: 0.179000, val accuracy: 0.230000\n",
      "Loss: 2.222293, Train accuracy: 0.187000, val accuracy: 0.260000\n",
      "Loss: 2.186235, Train accuracy: 0.225000, val accuracy: 0.210000\n",
      "Loss: 2.160865, Train accuracy: 0.269000, val accuracy: 0.270000\n",
      "Loss: 2.158278, Train accuracy: 0.332000, val accuracy: 0.280000\n",
      "Loss: 2.226760, Train accuracy: 0.182000, val accuracy: 0.230000\n",
      "Loss: 2.209699, Train accuracy: 0.192000, val accuracy: 0.200000\n",
      "Loss: 2.182049, Train accuracy: 0.231000, val accuracy: 0.220000\n",
      "Loss: 2.123897, Train accuracy: 0.291000, val accuracy: 0.310000\n",
      "Loss: 2.111413, Train accuracy: 0.372000, val accuracy: 0.290000\n",
      "Loss: 2.241243, Train accuracy: 0.183000, val accuracy: 0.230000\n",
      "Loss: 2.230520, Train accuracy: 0.183000, val accuracy: 0.230000\n",
      "Loss: 2.223895, Train accuracy: 0.184000, val accuracy: 0.220000\n",
      "Loss: 2.222667, Train accuracy: 0.185000, val accuracy: 0.190000\n",
      "Loss: 2.272121, Train accuracy: 0.214000, val accuracy: 0.190000\n",
      "Loss: 2.231170, Train accuracy: 0.183000, val accuracy: 0.230000\n",
      "Loss: 2.222898, Train accuracy: 0.184000, val accuracy: 0.220000\n",
      "Loss: 2.213286, Train accuracy: 0.196000, val accuracy: 0.200000\n",
      "Loss: 2.193478, Train accuracy: 0.202000, val accuracy: 0.180000\n",
      "Loss: 2.179408, Train accuracy: 0.229000, val accuracy: 0.220000\n",
      "Loss: 2.223526, Train accuracy: 0.182000, val accuracy: 0.220000\n",
      "Loss: 2.214576, Train accuracy: 0.185000, val accuracy: 0.200000\n",
      "Loss: 2.180966, Train accuracy: 0.207000, val accuracy: 0.190000\n",
      "Loss: 2.135061, Train accuracy: 0.266000, val accuracy: 0.250000\n",
      "Loss: 2.039867, Train accuracy: 0.307000, val accuracy: 0.270000\n",
      "Loss: 2.217840, Train accuracy: 0.183000, val accuracy: 0.200000\n",
      "Loss: 2.205279, Train accuracy: 0.193000, val accuracy: 0.220000\n",
      "Loss: 2.160360, Train accuracy: 0.240000, val accuracy: 0.230000\n",
      "Loss: 2.057125, Train accuracy: 0.297000, val accuracy: 0.270000\n",
      "Loss: 1.915487, Train accuracy: 0.409000, val accuracy: 0.290000\n",
      "Loss: 2.214594, Train accuracy: 0.183000, val accuracy: 0.230000\n",
      "Loss: 2.188276, Train accuracy: 0.201000, val accuracy: 0.200000\n",
      "Loss: 2.128423, Train accuracy: 0.281000, val accuracy: 0.300000\n",
      "Loss: 2.030966, Train accuracy: 0.365000, val accuracy: 0.320000\n",
      "Loss: 1.878442, Train accuracy: 0.437000, val accuracy: 0.350000\n",
      "Loss: 2.320833, Train accuracy: 0.183000, val accuracy: 0.230000\n",
      "Loss: 2.312386, Train accuracy: 0.183000, val accuracy: 0.230000\n",
      "Loss: 2.295145, Train accuracy: 0.183000, val accuracy: 0.230000\n",
      "Loss: 2.280343, Train accuracy: 0.183000, val accuracy: 0.230000\n",
      "Loss: 2.326261, Train accuracy: 0.183000, val accuracy: 0.230000\n",
      "Loss: 2.315027, Train accuracy: 0.183000, val accuracy: 0.230000\n",
      "Loss: 2.305868, Train accuracy: 0.183000, val accuracy: 0.230000\n",
      "Loss: 2.289333, Train accuracy: 0.183000, val accuracy: 0.230000\n",
      "Loss: 2.278156, Train accuracy: 0.183000, val accuracy: 0.230000\n",
      "Loss: 2.329186, Train accuracy: 0.183000, val accuracy: 0.230000\n",
      "Loss: 2.307206, Train accuracy: 0.183000, val accuracy: 0.230000\n",
      "Loss: 2.297994, Train accuracy: 0.183000, val accuracy: 0.230000\n",
      "Loss: 2.283319, Train accuracy: 0.183000, val accuracy: 0.230000\n",
      "Loss: 2.279466, Train accuracy: 0.183000, val accuracy: 0.230000\n",
      "Loss: 2.320279, Train accuracy: 0.183000, val accuracy: 0.230000\n",
      "Loss: 2.302747, Train accuracy: 0.183000, val accuracy: 0.230000\n",
      "Loss: 2.293469, Train accuracy: 0.183000, val accuracy: 0.230000\n",
      "Loss: 2.281441, Train accuracy: 0.183000, val accuracy: 0.230000\n",
      "Loss: 2.278856, Train accuracy: 0.183000, val accuracy: 0.230000\n",
      "Loss: 2.310198, Train accuracy: 0.183000, val accuracy: 0.230000\n",
      "Loss: 2.299235, Train accuracy: 0.183000, val accuracy: 0.230000\n",
      "Loss: 2.290452, Train accuracy: 0.183000, val accuracy: 0.230000\n",
      "Loss: 2.279683, Train accuracy: 0.183000, val accuracy: 0.230000\n",
      "Loss: 2.279004, Train accuracy: 0.183000, val accuracy: 0.230000\n",
      "Loss: 2.301913, Train accuracy: 0.183000, val accuracy: 0.230000\n",
      "Loss: 2.295009, Train accuracy: 0.183000, val accuracy: 0.230000\n",
      "Loss: 2.289843, Train accuracy: 0.183000, val accuracy: 0.230000\n",
      "Loss: 2.277084, Train accuracy: 0.183000, val accuracy: 0.230000\n",
      "Loss: 2.260706, Train accuracy: 0.183000, val accuracy: 0.230000\n",
      "Loss: 2.248951, Train accuracy: 0.183000, val accuracy: 0.230000\n",
      "Loss: 2.291288, Train accuracy: 0.183000, val accuracy: 0.230000\n",
      "Loss: 2.285060, Train accuracy: 0.183000, val accuracy: 0.230000\n",
      "Loss: 2.270782, Train accuracy: 0.183000, val accuracy: 0.230000\n",
      "Loss: 2.255139, Train accuracy: 0.183000, val accuracy: 0.230000\n",
      "Loss: 2.255376, Train accuracy: 0.183000, val accuracy: 0.230000\n",
      "Loss: 2.285982, Train accuracy: 0.183000, val accuracy: 0.230000\n",
      "Loss: 2.278860, Train accuracy: 0.183000, val accuracy: 0.230000\n",
      "Loss: 2.263046, Train accuracy: 0.183000, val accuracy: 0.230000\n",
      "Loss: 2.248741, Train accuracy: 0.183000, val accuracy: 0.230000\n",
      "Loss: 2.259217, Train accuracy: 0.183000, val accuracy: 0.230000\n",
      "Loss: 2.282663, Train accuracy: 0.183000, val accuracy: 0.230000\n",
      "Loss: 2.274792, Train accuracy: 0.183000, val accuracy: 0.230000\n",
      "Loss: 2.258391, Train accuracy: 0.183000, val accuracy: 0.230000\n",
      "Loss: 2.246969, Train accuracy: 0.183000, val accuracy: 0.230000\n",
      "Loss: 2.260826, Train accuracy: 0.183000, val accuracy: 0.230000\n",
      "Loss: 2.279758, Train accuracy: 0.183000, val accuracy: 0.230000\n",
      "Loss: 2.270953, Train accuracy: 0.183000, val accuracy: 0.230000\n",
      "Loss: 2.255578, Train accuracy: 0.183000, val accuracy: 0.230000\n",
      "Loss: 2.243596, Train accuracy: 0.183000, val accuracy: 0.230000\n",
      "Loss: 2.263808, Train accuracy: 0.183000, val accuracy: 0.230000\n",
      "Loss: 2.291468, Train accuracy: 0.183000, val accuracy: 0.230000\n",
      "Loss: 2.286109, Train accuracy: 0.183000, val accuracy: 0.230000\n",
      "Loss: 2.272766, Train accuracy: 0.183000, val accuracy: 0.230000\n",
      "Loss: 2.255041, Train accuracy: 0.183000, val accuracy: 0.230000\n",
      "Loss: 2.234875, Train accuracy: 0.183000, val accuracy: 0.230000\n",
      "Loss: 2.287649, Train accuracy: 0.183000, val accuracy: 0.230000\n",
      "Loss: 2.281349, Train accuracy: 0.183000, val accuracy: 0.230000\n",
      "Loss: 2.265681, Train accuracy: 0.183000, val accuracy: 0.230000\n",
      "Loss: 2.248189, Train accuracy: 0.183000, val accuracy: 0.230000\n",
      "Loss: 2.238874, Train accuracy: 0.183000, val accuracy: 0.230000\n",
      "Loss: 2.281798, Train accuracy: 0.183000, val accuracy: 0.230000\n",
      "Loss: 2.274501, Train accuracy: 0.183000, val accuracy: 0.230000\n",
      "Loss: 2.256556, Train accuracy: 0.183000, val accuracy: 0.230000\n",
      "Loss: 2.240197, Train accuracy: 0.183000, val accuracy: 0.230000\n",
      "Loss: 2.244897, Train accuracy: 0.183000, val accuracy: 0.230000\n",
      "Loss: 2.278757, Train accuracy: 0.183000, val accuracy: 0.230000\n",
      "Loss: 2.270362, Train accuracy: 0.183000, val accuracy: 0.230000\n",
      "Loss: 2.252535, Train accuracy: 0.183000, val accuracy: 0.230000\n",
      "Loss: 2.238459, Train accuracy: 0.183000, val accuracy: 0.230000\n",
      "Loss: 2.246696, Train accuracy: 0.183000, val accuracy: 0.230000\n",
      "Loss: 2.275414, Train accuracy: 0.183000, val accuracy: 0.230000\n",
      "Loss: 2.266308, Train accuracy: 0.183000, val accuracy: 0.230000\n",
      "Loss: 2.248185, Train accuracy: 0.183000, val accuracy: 0.230000\n",
      "Loss: 2.236672, Train accuracy: 0.183000, val accuracy: 0.230000\n",
      "Loss: 2.246715, Train accuracy: 0.183000, val accuracy: 0.230000\n",
      "Loss: 2.339324, Train accuracy: 0.183000, val accuracy: 0.230000\n",
      "Loss: 2.338327, Train accuracy: 0.183000, val accuracy: 0.230000\n",
      "Loss: 2.334602, Train accuracy: 0.183000, val accuracy: 0.230000\n",
      "Loss: 2.328768, Train accuracy: 0.183000, val accuracy: 0.230000\n",
      "Loss: 2.314355, Train accuracy: 0.183000, val accuracy: 0.230000\n",
      "Loss: 2.338493, Train accuracy: 0.183000, val accuracy: 0.230000\n",
      "Loss: 2.336895, Train accuracy: 0.183000, val accuracy: 0.230000\n",
      "Loss: 2.332842, Train accuracy: 0.183000, val accuracy: 0.230000\n",
      "Loss: 2.325585, Train accuracy: 0.183000, val accuracy: 0.230000\n",
      "Loss: 2.309398, Train accuracy: 0.183000, val accuracy: 0.230000\n",
      "Loss: 2.337134, Train accuracy: 0.183000, val accuracy: 0.230000\n",
      "Loss: 2.334987, Train accuracy: 0.183000, val accuracy: 0.230000\n",
      "Loss: 2.329198, Train accuracy: 0.183000, val accuracy: 0.230000\n",
      "Loss: 2.320800, Train accuracy: 0.183000, val accuracy: 0.230000\n",
      "Loss: 2.302639, Train accuracy: 0.183000, val accuracy: 0.230000\n",
      "Loss: 2.336533, Train accuracy: 0.183000, val accuracy: 0.230000\n",
      "Loss: 2.333517, Train accuracy: 0.183000, val accuracy: 0.230000\n",
      "Loss: 2.327077, Train accuracy: 0.183000, val accuracy: 0.230000\n",
      "Loss: 2.317564, Train accuracy: 0.183000, val accuracy: 0.230000\n",
      "Loss: 2.298975, Train accuracy: 0.183000, val accuracy: 0.230000\n",
      "Loss: 2.335400, Train accuracy: 0.183000, val accuracy: 0.230000\n",
      "Loss: 2.332290, Train accuracy: 0.183000, val accuracy: 0.230000\n",
      "Loss: 2.324899, Train accuracy: 0.183000, val accuracy: 0.230000\n",
      "Loss: 2.315151, Train accuracy: 0.183000, val accuracy: 0.230000\n",
      "Loss: 2.296200, Train accuracy: 0.183000, val accuracy: 0.230000\n",
      "Loss: 2.305230, Train accuracy: 0.183000, val accuracy: 0.230000\n",
      "Loss: 2.304582, Train accuracy: 0.183000, val accuracy: 0.230000\n",
      "Loss: 2.302974, Train accuracy: 0.183000, val accuracy: 0.230000\n",
      "Loss: 2.299677, Train accuracy: 0.183000, val accuracy: 0.230000\n",
      "Loss: 2.291767, Train accuracy: 0.183000, val accuracy: 0.230000\n",
      "Loss: 2.304783, Train accuracy: 0.183000, val accuracy: 0.230000\n",
      "Loss: 2.304015, Train accuracy: 0.183000, val accuracy: 0.230000\n",
      "Loss: 2.301728, Train accuracy: 0.183000, val accuracy: 0.230000\n",
      "Loss: 2.298101, Train accuracy: 0.183000, val accuracy: 0.230000\n",
      "Loss: 2.288492, Train accuracy: 0.183000, val accuracy: 0.230000\n",
      "Loss: 2.304009, Train accuracy: 0.183000, val accuracy: 0.230000\n",
      "Loss: 2.302936, Train accuracy: 0.183000, val accuracy: 0.230000\n",
      "Loss: 2.299877, Train accuracy: 0.183000, val accuracy: 0.230000\n",
      "Loss: 2.295172, Train accuracy: 0.183000, val accuracy: 0.230000\n",
      "Loss: 2.284047, Train accuracy: 0.183000, val accuracy: 0.230000\n",
      "Loss: 2.303678, Train accuracy: 0.183000, val accuracy: 0.230000\n",
      "Loss: 2.302359, Train accuracy: 0.183000, val accuracy: 0.230000\n",
      "Loss: 2.298911, Train accuracy: 0.183000, val accuracy: 0.230000\n",
      "Loss: 2.293569, Train accuracy: 0.183000, val accuracy: 0.230000\n",
      "Loss: 2.281593, Train accuracy: 0.183000, val accuracy: 0.230000\n",
      "Loss: 2.303059, Train accuracy: 0.183000, val accuracy: 0.230000\n",
      "Loss: 2.301634, Train accuracy: 0.183000, val accuracy: 0.230000\n",
      "Loss: 2.297521, Train accuracy: 0.183000, val accuracy: 0.230000\n",
      "Loss: 2.291786, Train accuracy: 0.183000, val accuracy: 0.230000\n",
      "Loss: 2.278826, Train accuracy: 0.183000, val accuracy: 0.230000\n",
      "Loss: 2.301928, Train accuracy: 0.183000, val accuracy: 0.230000\n",
      "Loss: 2.301050, Train accuracy: 0.183000, val accuracy: 0.230000\n",
      "Loss: 2.299392, Train accuracy: 0.183000, val accuracy: 0.230000\n",
      "Loss: 2.296207, Train accuracy: 0.183000, val accuracy: 0.230000\n",
      "Loss: 2.288021, Train accuracy: 0.183000, val accuracy: 0.230000\n",
      "Loss: 2.301206, Train accuracy: 0.183000, val accuracy: 0.230000\n",
      "Loss: 2.300231, Train accuracy: 0.183000, val accuracy: 0.230000\n",
      "Loss: 2.298269, Train accuracy: 0.183000, val accuracy: 0.230000\n",
      "Loss: 2.294403, Train accuracy: 0.183000, val accuracy: 0.230000\n",
      "Loss: 2.284508, Train accuracy: 0.183000, val accuracy: 0.230000\n",
      "Loss: 2.300647, Train accuracy: 0.183000, val accuracy: 0.230000\n",
      "Loss: 2.299324, Train accuracy: 0.183000, val accuracy: 0.230000\n",
      "Loss: 2.296553, Train accuracy: 0.183000, val accuracy: 0.230000\n",
      "Loss: 2.291684, Train accuracy: 0.183000, val accuracy: 0.230000\n",
      "Loss: 2.280151, Train accuracy: 0.183000, val accuracy: 0.230000\n",
      "Loss: 2.299966, Train accuracy: 0.183000, val accuracy: 0.230000\n",
      "Loss: 2.298820, Train accuracy: 0.183000, val accuracy: 0.230000\n",
      "Loss: 2.295356, Train accuracy: 0.183000, val accuracy: 0.230000\n",
      "Loss: 2.289955, Train accuracy: 0.183000, val accuracy: 0.230000\n",
      "Loss: 2.277689, Train accuracy: 0.183000, val accuracy: 0.230000\n",
      "Loss: 2.299569, Train accuracy: 0.183000, val accuracy: 0.230000\n",
      "Loss: 2.298108, Train accuracy: 0.183000, val accuracy: 0.230000\n",
      "Loss: 2.294306, Train accuracy: 0.183000, val accuracy: 0.230000\n",
      "Loss: 2.288283, Train accuracy: 0.183000, val accuracy: 0.230000\n",
      "Loss: 2.275615, Train accuracy: 0.183000, val accuracy: 0.230000\n",
      "best validation accuracy achieved: 0.350000\n",
      "best_params are (0.1, 0.001, 0.99, 128, 10, 128, 0.99)\n",
      "CPU times: user 12min 27s, sys: 52.8 s, total: 13min 20s\n",
      "Wall time: 3min 21s\n"
     ]
    }
   ],
   "source": [
    "%%time\n",
    "from itertools import product\n",
    "\n",
    "# Let's train the best one-hidden-layer network we can\n",
    "train_size = 1000\n",
    "val_size = 100\n",
    "train_X_, train_y_, val_X_, val_y_ = train_X[:train_size], train_y[:train_size], val_X[:val_size], val_y[:val_size]\n",
    "dataset = Dataset(train_X_, train_y_, val_X_, val_y_)\n",
    "\n",
    "\n",
    "learning_rates = [1e-1, 1e-2, 1e-3]\n",
    "reg_strengths = [1e-1, 1e-2, 1e-3]\n",
    "learning_rate_decays = [0.7, 0.8, 0.9, 0.95, 0.99]\n",
    "hidden_layer_sizes = [128]\n",
    "num_epochs_list = [10]\n",
    "batch_sizes = [128]\n",
    "momentums = [0.8, 0.85, 0.9, 0.95, 0.99]\n",
    "\n",
    "params_list = [learning_rates, reg_strengths, learning_rate_decays, hidden_layer_sizes,\n",
    "               num_epochs_list, batch_sizes, momentums]\n",
    "\n",
    "best_classifier = None\n",
    "best_val_accuracy = 0\n",
    "best_params = None\n",
    "\n",
    "loss_history = []\n",
    "train_history = []\n",
    "val_history = []\n",
    "\n",
    "print(len(list(product(*params_list))))\n",
    "# find the best hyperparameters to train the network\n",
    "for params in product(*params_list):\n",
    "    learning_rate, reg_strength, learning_rate_decay, hidden_layer_size, num_epochs, batch_size, momentum = params\n",
    "    model = TwoLayerNet(n_input = train_X_.shape[1], n_output = 10,  hidden_layer_size=hidden_layer_size, \n",
    "                        reg=reg_strength)\n",
    "    \n",
    "    trainer = Trainer(model, dataset, MomentumSGD(momentum=momentum), num_epochs, \n",
    "                      batch_size, learning_rate, learning_rate_decay)\n",
    "    \n",
    "    loss_history, train_history, val_history = trainer.fit()\n",
    "    val_accuracy = val_history[-1]\n",
    "    \n",
    "    if val_accuracy >= best_val_accuracy:\n",
    "        best_val_accuracy = val_accuracy\n",
    "        best_classifier = model\n",
    "        best_history = [loss_history, train_history, val_history]\n",
    "        best_params = params\n",
    "\n",
    "print('best validation accuracy achieved: %f' % best_val_accuracy)\n",
    "print(f'best_params are {best_params}')"
   ]
  },
  {
   "cell_type": "code",
   "execution_count": 12,
   "metadata": {},
   "outputs": [
    {
     "data": {
      "text/plain": [
       "[<matplotlib.lines.Line2D at 0x121a92590>]"
      ]
     },
     "execution_count": 12,
     "metadata": {},
     "output_type": "execute_result"
    },
    {
     "data": {
      "image/png": "[encoded data removed]",
      "text/plain": [
       "<Figure size 1080x504 with 2 Axes>"
      ]
     },
     "metadata": {
      "needs_background": "light"
     },
     "output_type": "display_data"
    }
   ],
   "source": [
    "# (0.1, 0.001, 0.99, 128, 10, 128, 0.99)\n",
    "loss_history, train_history, val_history = best_history\n",
    "plt.figure(figsize=(15, 7))\n",
    "plt.subplot(211)\n",
    "plt.title(\"Loss\")\n",
    "plt.plot(loss_history)\n",
    "plt.subplot(212)\n",
    "plt.title(\"Train/validation accuracy\")\n",
    "plt.plot(train_history)\n",
    "plt.plot(val_history)"
   ]
  },
  {
   "cell_type": "markdown",
   "metadata": {},
   "source": [
    "# Как обычно, посмотрим, как модель натренированная на части тренировочных данных работает на тестовых"
   ]
  },
  {
   "cell_type": "code",
   "execution_count": 13,
   "metadata": {},
   "outputs": [
    {
     "name": "stdout",
     "output_type": "stream",
     "text": [
      "Neural net test set accuracy: 0.335000\n"
     ]
    }
   ],
   "source": [
    "test_pred = best_classifier.predict(test_X)\n",
    "test_accuracy = multiclass_accuracy(test_pred, test_y)\n",
    "print('Neural net test set accuracy: %f' % (test_accuracy, ))"
   ]
  },
  {
   "cell_type": "markdown",
   "metadata": {},
   "source": [
    "# Натренируем модель с полученными гиперпараметрами и посмотрим как наша лучшая модель работает на тестовых данных"
   ]
  },
  {
   "cell_type": "code",
   "execution_count": 22,
   "metadata": {},
   "outputs": [
    {
     "name": "stdout",
     "output_type": "stream",
     "text": [
      "Loss: 2.284597, Train accuracy: 0.196667, val accuracy: 0.206000\n",
      "Loss: 2.236123, Train accuracy: 0.196667, val accuracy: 0.206000\n",
      "Loss: 2.262188, Train accuracy: 0.196667, val accuracy: 0.206000\n",
      "Loss: 2.266556, Train accuracy: 0.199000, val accuracy: 0.208000\n",
      "Loss: 2.247847, Train accuracy: 0.230667, val accuracy: 0.222000\n",
      "Loss: 2.227358, Train accuracy: 0.196667, val accuracy: 0.206000\n",
      "Loss: 2.169841, Train accuracy: 0.231889, val accuracy: 0.240000\n",
      "Loss: 2.077013, Train accuracy: 0.300222, val accuracy: 0.325000\n",
      "Loss: 1.945799, Train accuracy: 0.349889, val accuracy: 0.360000\n",
      "Loss: 1.800736, Train accuracy: 0.415556, val accuracy: 0.417000\n",
      "Loss: 1.657235, Train accuracy: 0.503778, val accuracy: 0.501000\n",
      "Loss: 1.562435, Train accuracy: 0.553111, val accuracy: 0.557000\n",
      "Loss: 1.499474, Train accuracy: 0.581444, val accuracy: 0.565000\n",
      "Loss: 1.473542, Train accuracy: 0.611222, val accuracy: 0.589000\n",
      "Loss: 1.487131, Train accuracy: 0.623556, val accuracy: 0.597000\n",
      "Loss: 1.440747, Train accuracy: 0.637222, val accuracy: 0.609000\n",
      "Loss: 1.472662, Train accuracy: 0.649222, val accuracy: 0.614000\n",
      "Loss: 1.443251, Train accuracy: 0.668111, val accuracy: 0.637000\n",
      "Loss: 1.424924, Train accuracy: 0.691111, val accuracy: 0.643000\n",
      "Loss: 1.396902, Train accuracy: 0.695000, val accuracy: 0.649000\n",
      "Loss: 1.404141, Train accuracy: 0.697778, val accuracy: 0.660000\n",
      "Loss: 1.374170, Train accuracy: 0.709556, val accuracy: 0.662000\n",
      "Loss: 1.362350, Train accuracy: 0.707333, val accuracy: 0.660000\n",
      "Loss: 1.347575, Train accuracy: 0.723556, val accuracy: 0.650000\n",
      "Loss: 1.326367, Train accuracy: 0.735333, val accuracy: 0.666000\n",
      "Loss: 1.295627, Train accuracy: 0.756111, val accuracy: 0.695000\n",
      "Loss: 1.285026, Train accuracy: 0.747000, val accuracy: 0.687000\n",
      "Loss: 1.280384, Train accuracy: 0.745556, val accuracy: 0.693000\n",
      "Loss: 1.267403, Train accuracy: 0.761000, val accuracy: 0.709000\n",
      "Loss: 1.240977, Train accuracy: 0.776000, val accuracy: 0.708000\n",
      "Loss: 1.212194, Train accuracy: 0.755111, val accuracy: 0.695000\n",
      "Loss: 1.195376, Train accuracy: 0.767556, val accuracy: 0.694000\n",
      "Loss: 1.186678, Train accuracy: 0.790778, val accuracy: 0.706000\n",
      "Loss: 1.169871, Train accuracy: 0.770444, val accuracy: 0.685000\n",
      "Loss: 1.170775, Train accuracy: 0.777556, val accuracy: 0.676000\n",
      "Loss: 1.146093, Train accuracy: 0.776889, val accuracy: 0.701000\n",
      "Loss: 1.134171, Train accuracy: 0.776222, val accuracy: 0.692000\n",
      "Loss: 1.139377, Train accuracy: 0.777444, val accuracy: 0.694000\n",
      "Loss: 1.141010, Train accuracy: 0.786778, val accuracy: 0.697000\n",
      "Loss: 1.103448, Train accuracy: 0.792667, val accuracy: 0.700000\n",
      "Loss: 1.092956, Train accuracy: 0.819889, val accuracy: 0.725000\n",
      "Loss: 1.065692, Train accuracy: 0.798222, val accuracy: 0.695000\n",
      "Loss: 1.085778, Train accuracy: 0.793333, val accuracy: 0.699000\n",
      "Loss: 1.089832, Train accuracy: 0.782111, val accuracy: 0.686000\n",
      "Loss: 1.097606, Train accuracy: 0.773000, val accuracy: 0.699000\n",
      "Loss: 1.127423, Train accuracy: 0.774000, val accuracy: 0.692000\n",
      "Loss: 1.116931, Train accuracy: 0.790778, val accuracy: 0.688000\n",
      "Loss: 1.132210, Train accuracy: 0.760889, val accuracy: 0.685000\n",
      "Loss: 1.176914, Train accuracy: 0.771000, val accuracy: 0.694000\n",
      "Loss: 1.171488, Train accuracy: 0.761778, val accuracy: 0.680000\n",
      "Loss: 1.147227, Train accuracy: 0.777667, val accuracy: 0.690000\n",
      "Loss: 1.134357, Train accuracy: 0.773333, val accuracy: 0.686000\n",
      "Loss: 1.196097, Train accuracy: 0.772222, val accuracy: 0.694000\n",
      "Loss: 1.154387, Train accuracy: 0.778111, val accuracy: 0.694000\n",
      "Loss: 1.132897, Train accuracy: 0.794333, val accuracy: 0.713000\n",
      "Loss: 1.135624, Train accuracy: 0.777556, val accuracy: 0.689000\n",
      "Loss: 1.112016, Train accuracy: 0.779111, val accuracy: 0.683000\n",
      "Loss: 1.143237, Train accuracy: 0.790333, val accuracy: 0.727000\n",
      "Loss: 1.087045, Train accuracy: 0.820222, val accuracy: 0.728000\n",
      "Loss: 1.065600, Train accuracy: 0.806111, val accuracy: 0.713000\n",
      "Loss: 1.069307, Train accuracy: 0.804333, val accuracy: 0.725000\n",
      "Loss: 1.055752, Train accuracy: 0.808333, val accuracy: 0.714000\n",
      "Loss: 1.053406, Train accuracy: 0.818000, val accuracy: 0.722000\n",
      "Loss: 1.038478, Train accuracy: 0.808333, val accuracy: 0.711000\n",
      "Loss: 1.044510, Train accuracy: 0.799333, val accuracy: 0.711000\n",
      "Loss: 1.052392, Train accuracy: 0.816222, val accuracy: 0.728000\n",
      "Loss: 1.036838, Train accuracy: 0.813556, val accuracy: 0.727000\n",
      "Loss: 1.021669, Train accuracy: 0.824111, val accuracy: 0.737000\n",
      "Loss: 0.997502, Train accuracy: 0.821556, val accuracy: 0.737000\n",
      "Loss: 0.990066, Train accuracy: 0.832556, val accuracy: 0.749000\n",
      "Loss: 0.957206, Train accuracy: 0.822667, val accuracy: 0.721000\n",
      "Loss: 0.955871, Train accuracy: 0.835444, val accuracy: 0.758000\n",
      "Loss: 0.940209, Train accuracy: 0.841333, val accuracy: 0.726000\n",
      "Loss: 0.929309, Train accuracy: 0.839556, val accuracy: 0.739000\n",
      "Loss: 0.945191, Train accuracy: 0.843778, val accuracy: 0.739000\n",
      "Loss: 0.918820, Train accuracy: 0.847111, val accuracy: 0.745000\n",
      "Loss: 0.924873, Train accuracy: 0.840333, val accuracy: 0.739000\n",
      "Loss: 0.909080, Train accuracy: 0.849667, val accuracy: 0.746000\n",
      "Loss: 0.889576, Train accuracy: 0.852111, val accuracy: 0.737000\n",
      "Loss: 0.888431, Train accuracy: 0.849222, val accuracy: 0.745000\n",
      "Loss: 0.888290, Train accuracy: 0.852444, val accuracy: 0.743000\n",
      "Loss: 0.882417, Train accuracy: 0.852000, val accuracy: 0.739000\n",
      "Loss: 0.870429, Train accuracy: 0.864222, val accuracy: 0.756000\n",
      "Loss: 0.870647, Train accuracy: 0.851556, val accuracy: 0.737000\n",
      "Loss: 0.874574, Train accuracy: 0.845444, val accuracy: 0.740000\n",
      "Loss: 0.891584, Train accuracy: 0.859333, val accuracy: 0.739000\n",
      "Loss: 0.887768, Train accuracy: 0.854556, val accuracy: 0.756000\n",
      "Loss: 0.864380, Train accuracy: 0.854778, val accuracy: 0.750000\n",
      "Loss: 0.861976, Train accuracy: 0.857778, val accuracy: 0.737000\n",
      "Loss: 0.868326, Train accuracy: 0.860889, val accuracy: 0.733000\n",
      "Loss: 0.854592, Train accuracy: 0.871444, val accuracy: 0.747000\n",
      "Loss: 0.854059, Train accuracy: 0.849667, val accuracy: 0.736000\n",
      "Loss: 0.866234, Train accuracy: 0.860333, val accuracy: 0.758000\n",
      "Loss: 0.873432, Train accuracy: 0.861556, val accuracy: 0.741000\n",
      "Loss: 0.868848, Train accuracy: 0.875444, val accuracy: 0.751000\n",
      "Loss: 0.869240, Train accuracy: 0.868333, val accuracy: 0.769000\n",
      "Loss: 0.868612, Train accuracy: 0.857889, val accuracy: 0.741000\n",
      "Loss: 0.864791, Train accuracy: 0.849333, val accuracy: 0.728000\n",
      "Loss: 0.876651, Train accuracy: 0.864778, val accuracy: 0.742000\n",
      "Loss: 0.871768, Train accuracy: 0.847778, val accuracy: 0.744000\n"
     ]
    }
   ],
   "source": [
    "best_clf = TwoLayerNet(n_input = train_X.shape[1], n_output = 10, hidden_layer_size=128, reg=1e-3)\n",
    "dataset = Dataset(train_X, train_y, val_X, val_y)\n",
    "trainer = Trainer(best_clf, dataset, MomentumSGD(momentum=0.99), num_epochs=100, \n",
    "                  batch_size=1024, learning_rate=1e-1, learning_rate_decay=0.99)\n",
    "    \n",
    "loss_history, train_history, val_history = trainer.fit()"
   ]
  },
  {
   "cell_type": "code",
   "execution_count": 32,
   "metadata": {},
   "outputs": [
    {
     "name": "stdout",
     "output_type": "stream",
     "text": [
      "Neural net test set accuracy: 0.708000\n"
     ]
    }
   ],
   "source": [
    "test_pred = best_clf.predict(test_X)\n",
    "test_accuracy = multiclass_accuracy(test_pred, test_y)\n",
    "print('Neural net test set accuracy: %f' % (test_accuracy, ))"
   ]
  }
 ],
 "metadata": {
  "kernelspec": {
   "display_name": "Python 3",
   "language": "python",
   "name": "python3"
  },
  "language_info": {
   "codemirror_mode": {
    "name": "ipython",
    "version": 3
   },
   "file_extension": ".py",
   "mimetype": "text/x-python",
   "name": "python",
   "nbconvert_exporter": "python",
   "pygments_lexer": "ipython3",
   "version": "3.7.5"
  }
 },
 "nbformat": 4,
 "nbformat_minor": 4
}
